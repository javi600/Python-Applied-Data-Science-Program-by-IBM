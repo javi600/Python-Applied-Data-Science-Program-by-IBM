{
 "cells": [
  {
   "cell_type": "markdown",
   "metadata": {},
   "source": [
    "<center>\n",
    "    <img src=\"https://cf-courses-data.s3.us.cloud-object-storage.appdomain.cloud/IBMDeveloperSkillsNetwork-PY0101EN-SkillsNetwork/IDSNlogo.png\" width=\"300\" alt=\"cognitiveclass.ai logo\"  />\n",
    "</center>\n",
    "\n",
    "# Write and Save Files in Python\n",
    "\n",
    "Estimated time needed: **25** minutes\n",
    "\n",
    "## Objectives\n",
    "\n",
    "After completing this lab you will be able to:\n",
    "\n",
    "*   Write to files using Python libraries\n"
   ]
  },
  {
   "cell_type": "markdown",
   "metadata": {},
   "source": [
    "<h2>Table of Contents</h2>\n",
    "<div class=\"alert alert-block alert-info\" style=\"margin-top: 20px\">\n",
    "    <ul>\n",
    "        <li><a href=\"write\">Writing Files</a></li>\n",
    "        <li><a href=\"Append\">Appending Files</a></li>\n",
    "        <li><a href=\"add\">Additional File modes</a></li>\n",
    "        <li><a href=\"copy\">Copy a File</a></li>\n",
    "    </ul>\n",
    "\n",
    "</div>\n",
    "\n",
    "<hr>\n"
   ]
  },
  {
   "cell_type": "markdown",
   "metadata": {},
   "source": [
    "<h2 id=\"write\">Writing Files</h2>\n"
   ]
  },
  {
   "cell_type": "markdown",
   "metadata": {},
   "source": [
    "We can open a file object using the method <code>write()</code> to save the text file to a list. To write to a file, the mode argument must be set to **w**. Let’s write a file **Example2.txt** with the line: **“This is line A”**\n"
   ]
  },
  {
   "cell_type": "code",
   "execution_count": 142,
   "metadata": {},
   "outputs": [],
   "source": [
    "# Write line to file\n",
    "import urllib.request\n",
    "url = 'https://cf-courses-data.s3.us.cloud-object-storage.appdomain.cloud/IBMDeveloperSkillsNetwork-PY0101EN-SkillsNetwork/labs/Module%204/data/example1.txt'\n",
    "filename = 'Example1.txt'\n",
    "urllib.request.urlretrieve(url, filename)\n",
    "exmp2 = \"Example2.txt\"\n",
    "\n",
    "#exmp2 = '/resources/data/Example2.txt'\n",
    "with open(exmp2, 'w') as writefile:\n",
    "    writefile.write(\"This is line A\")"
   ]
  },
  {
   "cell_type": "markdown",
   "metadata": {},
   "source": [
    "We can read the file to see if it worked:\n"
   ]
  },
  {
   "cell_type": "code",
   "execution_count": 143,
   "metadata": {},
   "outputs": [
    {
     "name": "stdout",
     "output_type": "stream",
     "text": [
      "This is line A\n"
     ]
    }
   ],
   "source": [
    "# Read file\n",
    "\n",
    "with open(exmp2, 'r') as testwritefile:\n",
    "    print(testwritefile.read())"
   ]
  },
  {
   "cell_type": "markdown",
   "metadata": {},
   "source": [
    "We can write multiple lines:\n"
   ]
  },
  {
   "cell_type": "code",
   "execution_count": 144,
   "metadata": {},
   "outputs": [],
   "source": [
    "# Write lines to file\n",
    "\n",
    "with open(exmp2, 'w') as writefile:\n",
    "    writefile.write(\"This is line A\\n\")\n",
    "    writefile.write(\"This is line B\\n\")"
   ]
  },
  {
   "cell_type": "markdown",
   "metadata": {},
   "source": [
    "The method <code>.write()</code> works similar to the method <code>.readline()</code>, except instead of reading a new line it writes a new line. The process is illustrated in the figure. The different colour coding of the grid represents a new line added to the file after each method call.\n"
   ]
  },
  {
   "cell_type": "markdown",
   "metadata": {},
   "source": [
    "<img src=\"https://cf-courses-data.s3.us.cloud-object-storage.appdomain.cloud/IBMDeveloperSkillsNetwork-PY0101EN-SkillsNetwork/labs/Module%204/images/WriteLine.png\" width=\"500\" />\n"
   ]
  },
  {
   "cell_type": "markdown",
   "metadata": {},
   "source": [
    "You can check the file to see if your results are correct\n"
   ]
  },
  {
   "cell_type": "code",
   "execution_count": 145,
   "metadata": {},
   "outputs": [
    {
     "name": "stdout",
     "output_type": "stream",
     "text": [
      "This is line A\n",
      "This is line B\n",
      "\n"
     ]
    }
   ],
   "source": [
    "# Check whether write to file\n",
    "\n",
    "with open(exmp2, 'r') as testwritefile:\n",
    "    print(testwritefile.read())"
   ]
  },
  {
   "cell_type": "markdown",
   "metadata": {},
   "source": [
    "We write a list to a **.txt** file  as follows:\n"
   ]
  },
  {
   "cell_type": "code",
   "execution_count": 146,
   "metadata": {},
   "outputs": [
    {
     "data": {
      "text/plain": [
       "['This is line A\\n', 'This is line B\\n', 'This is line C\\n']"
      ]
     },
     "execution_count": 146,
     "metadata": {},
     "output_type": "execute_result"
    }
   ],
   "source": [
    "# Sample list of text\n",
    "\n",
    "Lines = [\"This is line A\\n\", \"This is line B\\n\", \"This is line C\\n\"]\n",
    "Lines"
   ]
  },
  {
   "cell_type": "code",
   "execution_count": 147,
   "metadata": {},
   "outputs": [
    {
     "name": "stdout",
     "output_type": "stream",
     "text": [
      "This is line A\n",
      "\n",
      "This is line B\n",
      "\n",
      "This is line C\n",
      "\n"
     ]
    }
   ],
   "source": [
    "# Write the strings in the list to text file\n",
    "\n",
    "with open('Example2.txt', 'w') as writefile:\n",
    "    for line in Lines:\n",
    "        print(line)\n",
    "        writefile.write(line)"
   ]
  },
  {
   "cell_type": "markdown",
   "metadata": {},
   "source": [
    "We can verify the file is written by reading it and printing out the values:\n"
   ]
  },
  {
   "cell_type": "code",
   "execution_count": 148,
   "metadata": {},
   "outputs": [
    {
     "name": "stdout",
     "output_type": "stream",
     "text": [
      "This is line A\n",
      "This is line B\n",
      "This is line C\n",
      "\n"
     ]
    }
   ],
   "source": [
    "# Verify if writing to file is successfully executed\n",
    "\n",
    "with open('Example2.txt', 'r') as testwritefile:\n",
    "    print(testwritefile.read())"
   ]
  },
  {
   "cell_type": "markdown",
   "metadata": {},
   "source": [
    "However, note that setting the mode to **w** overwrites all the existing data in the file.\n"
   ]
  },
  {
   "cell_type": "code",
   "execution_count": 149,
   "metadata": {},
   "outputs": [
    {
     "name": "stdout",
     "output_type": "stream",
     "text": [
      "Overwrite\n",
      "\n"
     ]
    }
   ],
   "source": [
    "with open('Example2.txt', 'w') as writefile:\n",
    "    writefile.write(\"Overwrite\\n\")\n",
    "with open('Example2.txt', 'r') as testwritefile:\n",
    "    print(testwritefile.read())"
   ]
  },
  {
   "cell_type": "markdown",
   "metadata": {},
   "source": [
    "<hr>\n",
    "<h2 id=\"Append\">Appending Files</h2>\n"
   ]
  },
  {
   "cell_type": "markdown",
   "metadata": {},
   "source": [
    "We can write to files without losing any of the existing data as follows by setting the mode argument to append: **a**.  you can append a new line as follows:\n"
   ]
  },
  {
   "cell_type": "code",
   "execution_count": 150,
   "metadata": {},
   "outputs": [],
   "source": [
    "# Write a new line to text file\n",
    "with open('Example2.txt', 'w') as testwritefile:\n",
    "    testwritefile.write(\"This is the beggining\\n\")\n",
    "    testwritefile.write(\"This is line C\\n\")\n",
    "    testwritefile.write(\"This is line D\\n\")\n",
    "\n",
    "with open('Example2.txt', 'r') as testwritefile:\n",
    "    data=testwritefile.read()\n",
    "    \n",
    "with open('Example2.txt', 'w') as testwritefile:\n",
    "    testwritefile.seek(0,0)\n",
    "    \n",
    "    testwritefile.write(\"This is line 0\\n\")\n",
    "    testwritefile.write(data)"
   ]
  },
  {
   "cell_type": "markdown",
   "metadata": {},
   "source": [
    "\n",
    "You can verify the file has changed by running the following cell:\n"
   ]
  },
  {
   "cell_type": "code",
   "execution_count": 151,
   "metadata": {},
   "outputs": [
    {
     "name": "stdout",
     "output_type": "stream",
     "text": [
      "This is line 0\n",
      "This is the beggining\n",
      "This is line C\n",
      "This is line D\n",
      "\n"
     ]
    }
   ],
   "source": [
    "# Verify if the new line is in the text file\n",
    "\n",
    "with open('Example2.txt', 'r') as testwritefile:\n",
    "    print(testwritefile.read())"
   ]
  },
  {
   "cell_type": "markdown",
   "metadata": {},
   "source": [
    "<hr>\n",
    "<h2 id=\"add\">Additional modes</h2> \n"
   ]
  },
  {
   "cell_type": "markdown",
   "metadata": {},
   "source": [
    "It's fairly ineffecient to open the file in **a** or **w** and then reopening it in **r** to read any lines. Luckily we can access the file in the following modes:\n",
    "\n",
    "*   **r+** : Reading and writing. Cannot truncate the file.\n",
    "*   **w+** : Writing and reading. Truncates the file.\n",
    "*   **a+** : Appending and Reading. Creates a new file, if none exists.\n",
    "    You dont have to dwell on the specifics of each mode for this lab.\n"
   ]
  },
  {
   "cell_type": "markdown",
   "metadata": {},
   "source": [
    "Let's try out the **a+** mode:\n"
   ]
  },
  {
   "cell_type": "code",
   "execution_count": 152,
   "metadata": {},
   "outputs": [
    {
     "name": "stdout",
     "output_type": "stream",
     "text": [
      "\n"
     ]
    }
   ],
   "source": [
    "with open('Example2.txt', 'a+') as testwritefile:\n",
    "    testwritefile.write(\"This is line E\\n\")\n",
    "    print(testwritefile.read())"
   ]
  },
  {
   "cell_type": "markdown",
   "metadata": {},
   "source": [
    "There were no errors but <code>read()</code> also did not output anything. This is because of our location in the file.\n"
   ]
  },
  {
   "cell_type": "markdown",
   "metadata": {},
   "source": [
    "Most of the file methods we've looked at work in a certain location in the file. <code>.write() </code> writes at a certain location in the file. <code>.read()</code> reads at a certain location in the file and so on. You can think of this as moving your pointer around in the notepad to make changes at specific location.\n"
   ]
  },
  {
   "cell_type": "markdown",
   "metadata": {},
   "source": [
    "Opening the file in **w** is akin to opening the .txt file, moving your cursor to the beginning of the text file, writing new text and deleting everything that follows.\n",
    "Whereas opening the file in **a** is similiar to opening the .txt file, moving your cursor to the very end and then adding the new pieces of text. <br>\n",
    "It is often very useful to know where the 'cursor' is in a file and be able to control it. The following methods allow us to do precisely this -\n",
    "\n",
    "*   <code>.tell()</code> - returns the current position in bytes\n",
    "*   <code>.seek(offset,from)</code> - changes the position by 'offset' bytes with respect to 'from'. From can take the value of 0,1,2 corresponding to beginning, relative to current position and end\n"
   ]
  },
  {
   "cell_type": "markdown",
   "metadata": {},
   "source": [
    "Now lets revisit **a+**\n"
   ]
  },
  {
   "cell_type": "code",
   "execution_count": 153,
   "metadata": {},
   "outputs": [
    {
     "name": "stdout",
     "output_type": "stream",
     "text": [
      "Initial Location: 82\n",
      "82\n",
      "Read nothing\n",
      "\n",
      "New Location : 0\n",
      "This is line 0\n",
      "This is the beggining\n",
      "This is line C\n",
      "This is line D\n",
      "This is line E\n",
      "holaaa\n",
      "Location after read: 88\n"
     ]
    }
   ],
   "source": [
    "with open('Example2.txt', 'a+') as testwritefile:\n",
    "    print(\"Initial Location: {}\".format(testwritefile.tell()))\n",
    "    print(testwritefile.tell())\n",
    "    data = testwritefile.read()\n",
    "    if (not data):  #empty strings return false in python\n",
    "            print('Read nothing') \n",
    "    else: \n",
    "            print(testwritefile.read())\n",
    "            \n",
    "    testwritefile.seek(0,0) # move 0 bytes from beginning.\n",
    "    testwritefile.write(\"holaaa\")\n",
    "    testwritefile.seek(0,0)\n",
    "    print(\"\\nNew Location : {}\".format(testwritefile.tell()))\n",
    "    \n",
    "    data = testwritefile.read()\n",
    "    if (not data): \n",
    "            print('Read nothing') \n",
    "    else: \n",
    "            print(data)\n",
    "    \n",
    "    print(\"Location after read: {}\".format(testwritefile.tell()) )"
   ]
  },
  {
   "cell_type": "markdown",
   "metadata": {},
   "source": [
    "Finally, a note on the difference between **w+** and **r+**. Both of these modes allow access to read and write methods, however, opening a file in **w+** overwrites it and deletes all pre-existing data. <br>\n",
    "To work with a file on existing data, use **r+** and **a+**. While using **r+**, it can be useful to add a <code>.truncate()</code> method at the end of your data. This will reduce the file to your data and delete everything that follows. <br>\n",
    "In the following code block, Run the code as it is first and then run it with the <code>.truncate()</code>.\n"
   ]
  },
  {
   "cell_type": "code",
   "execution_count": 2,
   "metadata": {},
   "outputs": [
    {
     "name": "stdout",
     "output_type": "stream",
     "text": [
      "Line Javi\n",
      "Line 1\n",
      "Line 2\n",
      "L\n"
     ]
    }
   ],
   "source": [
    "with open('Example2.txt', 'w') as testwritefile:\n",
    "    testwritefile.write(\"Line Javi\"+ \"\\n\")\n",
    "with open('Example2.txt', 'r+') as testwritefile:\n",
    "    data = testwritefile.readlines()\n",
    "    \n",
    "   #testwritefile.seek(0,0) #write at beginning of file\n",
    "   \n",
    "    testwritefile.write(\"Line 1\" + \"\\n\")\n",
    "    testwritefile.write(\"Line 2\" + \"\\n\")\n",
    "    testwritefile.write(\"Line 3\" + \"\\n\")\n",
    "    testwritefile.write(\"finished\\n\")\n",
    "    #Uncomment the line below\n",
    "    testwritefile.truncate(28)\n",
    "    testwritefile.seek(0,0)\n",
    "    print(testwritefile.read())\n"
   ]
  },
  {
   "cell_type": "markdown",
   "metadata": {},
   "source": [
    "<hr>\n"
   ]
  },
  {
   "cell_type": "markdown",
   "metadata": {},
   "source": [
    "<h2 id=\"copy\">Copy a File</h2> \n"
   ]
  },
  {
   "cell_type": "markdown",
   "metadata": {},
   "source": [
    "Let's copy the file **Example2.txt** to the file **Example3.txt**:\n"
   ]
  },
  {
   "cell_type": "code",
   "execution_count": null,
   "metadata": {},
   "outputs": [],
   "source": []
  },
  {
   "cell_type": "code",
   "execution_count": 155,
   "metadata": {},
   "outputs": [],
   "source": [
    "# Copy file to another\n",
    "\n",
    "with open('Example2.txt','r') as readfile:\n",
    "    with open('Example3.txt','w') as writefile:\n",
    "          for line in readfile:\n",
    "                writefile.write(line)"
   ]
  },
  {
   "cell_type": "code",
   "execution_count": 156,
   "metadata": {},
   "outputs": [
    {
     "name": "stdout",
     "output_type": "stream",
     "text": [
      "['Line Javi\\n', 'Line 1\\n', 'Line 2\\n', 'Line']\n",
      "\n",
      "\n",
      "Line Javi\n",
      "\n",
      "Line Javi\n",
      "Line 1\n",
      "Line 2\n",
      "Line\n"
     ]
    }
   ],
   "source": [
    "with open('Example3.txt','r') as readfile:\n",
    "    #todas las lineas añadidas a una lista\n",
    "    print(readfile.readlines())\n",
    "    print(\"\\n\")\n",
    "    #apuntar al comienzo para leer\n",
    "    readfile.seek(0,0)\n",
    "    #primera linea\n",
    "    print(readfile.readline())\n",
    "    readfile.seek(0,0)\n",
    "    #leerlo todo normal\n",
    "    print(readfile.read())"
   ]
  },
  {
   "cell_type": "code",
   "execution_count": 157,
   "metadata": {},
   "outputs": [
    {
     "name": "stdout",
     "output_type": "stream",
     "text": [
      "['Line Javi Line 1\\n', ' Line 2\\n']\n"
     ]
    }
   ],
   "source": [
    "\n",
    "with open('Example4.txt','w') as writefile:\n",
    "    writefile.write(\"Line Javi Line 1\\n Line 2\\n\")\n",
    "with open('Example4.txt','r') as readfile:\n",
    "    print(readfile.readlines())"
   ]
  },
  {
   "cell_type": "code",
   "execution_count": null,
   "metadata": {},
   "outputs": [],
   "source": []
  },
  {
   "cell_type": "markdown",
   "metadata": {},
   "source": [
    "We can read the file to see if everything works:\n"
   ]
  },
  {
   "cell_type": "code",
   "execution_count": 158,
   "metadata": {},
   "outputs": [
    {
     "name": "stdout",
     "output_type": "stream",
     "text": [
      "Line Javi\n",
      "Line 1\n",
      "Line 2\n",
      "Line\n"
     ]
    }
   ],
   "source": [
    "# Verify if the copy is successfully executed\n",
    "\n",
    "with open('Example3.txt','r') as testwritefile:\n",
    "    print(testwritefile.read())"
   ]
  },
  {
   "cell_type": "markdown",
   "metadata": {},
   "source": [
    "After reading files, we can also write data into files and save them in different file formats like **.txt, .csv, .xls (for excel files) etc**. You will come across these in further examples\n"
   ]
  },
  {
   "cell_type": "markdown",
   "metadata": {},
   "source": [
    "Now go to the directory to ensure the **.txt** file exists and contains the summary data that we wrote.\n"
   ]
  },
  {
   "cell_type": "markdown",
   "metadata": {},
   "source": [
    "<hr>\n"
   ]
  },
  {
   "cell_type": "markdown",
   "metadata": {},
   "source": [
    "<h2> Exercise </h2>\n"
   ]
  },
  {
   "cell_type": "markdown",
   "metadata": {},
   "source": [
    "data = \"{:^13}  {:<11}  {:<6}\\n\"Your local university's Raptors fan club maintains a register of its active members on a .txt document. Every month they update the file by removing the members who are not active. You have been tasked with automating this with your Python skills. <br>\n",
    "Given the file currentMem, Remove each member with a 'no' in their Active coloumn. Keep track of each of the removed members and append them to the exMem file. Make sure the format of the original files in preserved.   (*Hint: Do this by reading/writing whole lines and ensuring the header remains* ) <br>\n",
    "Run the code block below prior to starting the exercise. The skeleton code has been provided for you, Edit only the cleanFiles function.\n"
   ]
  },
  {
   "cell_type": "code",
   "execution_count": 159,
   "metadata": {},
   "outputs": [
    {
     "name": "stdout",
     "output_type": "stream",
     "text": [
      "{:}  {:}  {:}\n",
      "\n",
      "2016-8-14\n",
      "22255  2016-8-14  yes\n",
      "\n"
     ]
    }
   ],
   "source": [
    "data = \"{:}  {:}  {:}\\n\"\n",
    "print(data)\n",
    "date = str(rnd(2015,2020))+ '-' + str(rnd(1,12))+'-'+str(rnd(1,25))\n",
    "print(date)\n",
    "print((data.format(rnd(10000,99999),date,fee[rnd(0,1)])))"
   ]
  },
  {
   "cell_type": "code",
   "execution_count": 28,
   "metadata": {},
   "outputs": [
    {
     "name": "stdout",
     "output_type": "stream",
     "text": [
      "Membership No  Date Joined  Active  \n",
      "55513  2020-8-12  yes\n",
      "96375  2016-7-8  no\n",
      "30320  2017-12-4  yes\n",
      "17803  2017-9-10  no\n",
      "86711  2018-6-25  no\n",
      "51359  2018-11-13  yes\n",
      "73505  2018-12-24  yes\n",
      "81408  2018-12-7  yes\n",
      "47792  2018-3-7  yes\n",
      "47265  2020-7-17  yes\n",
      "47450  2018-7-24  yes\n",
      "51830  2020-7-22  no\n",
      "87599  2020-1-5  yes\n",
      "34198  2018-12-11  yes\n",
      "17997  2015-11-2  no\n",
      "53492  2019-10-17  no\n",
      "90965  2020-2-5  no\n",
      "88061  2017-8-5  no\n",
      "50328  2016-11-25  no\n",
      "94362  2020-4-3  yes\n",
      "\n"
     ]
    }
   ],
   "source": [
    "#Run this prior to starting the exercise\n",
    "from random import randint as rnd\n",
    "\n",
    "memReg = 'members.txt'\n",
    "exReg = 'inactive.txt'\n",
    "fee =('yes','no')\n",
    "\n",
    "def genFiles(current,old):\n",
    "    with open(current,'w+') as writefile: \n",
    "        writefile.write('Membership No  Date Joined  Active  \\n')\n",
    "        data = \"{:}  {:}  {:}\\n\"\n",
    "\n",
    "        for rowno in range(20):\n",
    "            date = str(rnd(2015,2020))+ '-' + str(rnd(1,12))+'-'+str(rnd(1,25))\n",
    "            writefile.write(data.format(rnd(10000,99999),date,fee[rnd(0,1)]))\n",
    "\n",
    "\n",
    "    with open(old,'w+') as writefile: \n",
    "        writefile.write('Membership No  Date Joined  Active  \\n')\n",
    "        data = \"{:}  {:}  {:}\\n\"\n",
    "        for rowno in range(3):\n",
    "            date = str(rnd(2015,2020))+ '-' + str(rnd(1,12))+'-'+str(rnd(1,25))\n",
    "            writefile.write(data.format(rnd(10000,99999),date,fee[1]))\n",
    "\n",
    "\n",
    "genFiles(memReg,exReg)\n",
    "with open('members.txt','r') as writefile:\n",
    "    print(writefile.read())"
   ]
  },
  {
   "cell_type": "markdown",
   "metadata": {},
   "source": [
    "Start your solution below:\n"
   ]
  },
  {
   "cell_type": "code",
   "execution_count": 23,
   "metadata": {},
   "outputs": [
    {
     "name": "stdout",
     "output_type": "stream",
     "text": [
      "true\n",
      "ja javi adios\n",
      "\n"
     ]
    },
    {
     "data": {
      "text/plain": [
       "['najbsnjsnn hola nnooo adios\\n', 'hola chico']"
      ]
     },
     "execution_count": 23,
     "metadata": {},
     "output_type": "execute_result"
    }
   ],
   "source": [
    "rr=\"yes no me importa yes\"\n",
    "if \"yes\" in rr:\n",
    "    print(\"true\")\n",
    "rr=[\"najbsnjsnn hola nnooo adios\\n\",\"ja javi adios\\n\",\"hola chico\"]\n",
    "inactive = [member for member in rr if ('hola' in member)]\n",
    "for member in rr:\n",
    "    if ('javi' in member):\n",
    "        print(member)\n",
    "inactive"
   ]
  },
  {
   "cell_type": "code",
   "execution_count": null,
   "metadata": {},
   "outputs": [],
   "source": []
  },
  {
   "cell_type": "code",
   "execution_count": 22,
   "metadata": {},
   "outputs": [
    {
     "name": "stdout",
     "output_type": "stream",
     "text": [
      "Membership No  Date Joined  Active  \n",
      "22728  2015-7-15  no\n",
      "85632  2018-11-25  no\n",
      "21964  2015-9-6  no\n",
      "98624 2020-4-10 no\n",
      "49579 2015-10-11 no\n",
      "60707 2019-10-21 no\n",
      "41749 2020-2-8 no\n",
      "11285 2020-2-25 no\n",
      "39077 2016-8-10 no\n",
      "92547 2016-3-6 no\n",
      "41279 2018-1-23 no\n",
      "32322 2019-3-19 no\n",
      "62609 2019-11-6 no\n",
      "91170 2018-6-8 no\n",
      "\n",
      "Membership No  Date Joined  Active  \n",
      "58066 2017-12-8  yes\n",
      "56564 2019-5-7  yes\n",
      "24659 2017-9-16  yes\n",
      "33657 2017-11-8  yes\n",
      "39112 2016-2-7  yes\n",
      "12383 2016-8-11  yes\n",
      "13578 2019-6-5  yes\n",
      "50394 2016-8-25  yes\n",
      "51065 2018-9-2  yes\n",
      "\n"
     ]
    }
   ],
   "source": [
    "with open('members.txt','r') as readfile:\n",
    "    rr=readfile.read()\n",
    "rr=(rr).split(\"\\n\")\n",
    "logs=rr[1:len(rr)-1]\n",
    "\n",
    "ids=[]\n",
    "date=[]\n",
    "is_active=[]\n",
    "for i in range(len(logs)):\n",
    "    logs1=logs[i].split(\"  \")\n",
    "    ids.append(logs1[0])\n",
    "    date.append(logs1[1])\n",
    "    is_active.append(logs1[2])\n",
    "\n",
    "# Creates a new file\n",
    "with open('memberupdated.txt', 'w') as fp:\n",
    "    fp.write(\"Membership No  Date Joined  Active  \\n\")\n",
    "for i in range(len(is_active)):\n",
    "    if is_active[i]==\"no\":\n",
    "        with open('inactive.txt','a') as appendfile:\n",
    "            appendfile.write(ids[i]+\" \"+date[i]+\" \"+is_active[i]+\"\\n\")\n",
    "    elif is_active[i]==\"yes\":\n",
    "        with open('memberupdated.txt','a') as writedfile:\n",
    "            writedfile.write(ids[i]+\" \"+date[i]+\" \"+is_active[i]+\"\\n\")\n",
    "            \n",
    "with open('memberupdated.txt','r') as readfile:\n",
    "    with open('members.txt','w') as writefile:\n",
    "          for line in readfile:\n",
    "                writefile.write(line)\n",
    "                \n",
    "with open('inactive.txt','r') as writefile:\n",
    "    print(writefile.read())\n",
    "with open('members.txt','r') as writefile:\n",
    "    print(writefile.read())"
   ]
  },
  {
   "cell_type": "code",
   "execution_count": 27,
   "metadata": {},
   "outputs": [
    {
     "name": "stdout",
     "output_type": "stream",
     "text": [
      "Membership No  Date Joined  Active  \n",
      "36776  2015-5-20  no\n",
      "86549  2018-4-20  no\n",
      "65106  2017-8-4  no\n",
      "87185  2019-11-4  no\n",
      "33913  2015-4-1  no\n",
      "86427  2019-6-19  no\n",
      "35506  2017-5-14  no\n",
      "70552  2019-12-21  no\n",
      "76893  2015-12-11  no\n",
      "80758  2016-4-18  no\n",
      "65740  2020-6-12  no\n",
      "65297  2017-8-24  no\n",
      "70604  2017-7-5  no\n",
      "82491  2018-4-15  no\n",
      "\n",
      "Membership No  Date Joined  Active  \n",
      "22584  2018-5-23  yes\n",
      "33918  2018-5-16  yes\n",
      "40884  2018-6-18  yes\n",
      "72665  2016-10-14  yes\n",
      "74016  2019-10-12  yes\n",
      "80964  2015-8-4  yes\n",
      "69347  2017-2-7  yes\n",
      "64389  2017-7-2  yes\n",
      "18055  2015-9-17  yes\n",
      "\n"
     ]
    }
   ],
   "source": [
    "with open('members.txt','r') as readfile:#forma 2 de hacerlo\n",
    "    rr=readfile.read()\n",
    "rr=(rr).split(\"\\n\")\n",
    "logs=rr[1:len(rr)-1]\n",
    "tracking=[]\n",
    "\n",
    "for i in range(len(logs)):\n",
    "    logs1=logs[i].split(\"  \")\n",
    "    tracking.extend([[logs1[0],logs1[1],logs1[2]]])\n",
    "\n",
    "# Creates a new file\n",
    "with open('memberupdated.txt', 'w') as fp:\n",
    "    fp.write(\"Membership No  Date Joined  Active  \\n\")\n",
    "for i in range(len(tracking)):\n",
    "    if tracking[i][2]==\"no\":\n",
    "        with open('inactive.txt','a') as appendfile:\n",
    "            appendfile.write(\"  \".join(tracking[i])+\"\\n\")\n",
    "    elif tracking[i][2]==\"yes\":\n",
    "        with open('memberupdated.txt','a') as writedfile:\n",
    "            writedfile.write(\"  \".join(tracking[i])+\"\\n\")\n",
    "            \n",
    "with open('memberupdated.txt','r') as readfile:\n",
    "    with open('members.txt','w') as writefile:\n",
    "          for line in readfile:\n",
    "                writefile.write(line)\n",
    "                \n",
    "with open('inactive.txt','r') as writefile:\n",
    "    print(writefile.read())\n",
    "with open('members.txt','r') as writefile:\n",
    "    print(writefile.read())"
   ]
  },
  {
   "cell_type": "code",
   "execution_count": 187,
   "metadata": {},
   "outputs": [
    {
     "data": {
      "text/plain": [
       "['63752  2017-10-18  yes\\n',\n",
       " '80821  2017-10-1  yes\\n',\n",
       " '65029  2015-8-20  yes\\n',\n",
       " '25673  2015-4-6  yes\\n',\n",
       " '36542  2020-6-15  yes\\n',\n",
       " '48784  2017-12-20  yes\\n',\n",
       " '17622  2015-4-9  yes\\n',\n",
       " '69040  2016-10-20  yes\\n',\n",
       " '39670  2019-7-15  yes\\n']"
      ]
     },
     "execution_count": 187,
     "metadata": {},
     "output_type": "execute_result"
    }
   ],
   "source": [
    "with open('members.txt','r+') as writeFile:\n",
    "    writeFile.seek(0)\n",
    "    members = writeFile.readlines()\n",
    "            #remove header\n",
    "    header = members[0]\n",
    "    members.pop(0)\n",
    "members"
   ]
  },
  {
   "cell_type": "code",
   "execution_count": 49,
   "metadata": {},
   "outputs": [
    {
     "name": "stdout",
     "output_type": "stream",
     "text": [
      "0246\n"
     ]
    },
    {
     "data": {
      "text/plain": [
       "[3, 4, 7, 6, 8, 'a', 'b', 'c']"
      ]
     },
     "execution_count": 49,
     "metadata": {},
     "output_type": "execute_result"
    }
   ],
   "source": [
    "import numpy as np\n",
    "var = '01234567'\n",
    "print(var[::2])\n",
    "1//2\n",
    "\n",
    "def add(x): \n",
    "     return(x+x+x) \n",
    "add(\"1\") \n",
    "my_collection=[3,4,7,6,8]\n",
    "sorted(my_collection)\n",
    "# Concatenate two lists\n",
    "\n",
    "my_collection_2 = [\"a\", \"b\", \"c\"]\n",
    "\n",
    "my_collection_3 = my_collection + my_collection_2\n",
    "\n",
    "my_collection.extend(my_collection_2)\n",
    "my_collection"
   ]
  },
  {
   "cell_type": "code",
   "execution_count": null,
   "metadata": {},
   "outputs": [],
   "source": []
  },
  {
   "cell_type": "code",
   "execution_count": 29,
   "metadata": {},
   "outputs": [
    {
     "name": "stdout",
     "output_type": "stream",
     "text": [
      "Active Members: \n",
      "\n",
      "\n",
      "Membership No  Date Joined  Active  \n",
      "55513  2020-8-12  yes\n",
      "30320  2017-12-4  yes\n",
      "51359  2018-11-13  yes\n",
      "73505  2018-12-24  yes\n",
      "81408  2018-12-7  yes\n",
      "47792  2018-3-7  yes\n",
      "47265  2020-7-17  yes\n",
      "47450  2018-7-24  yes\n",
      "87599  2020-1-5  yes\n",
      "34198  2018-12-11  yes\n",
      "94362  2020-4-3  yes\n",
      "\n",
      "Inactive Members: \n",
      "\n",
      "\n",
      "Membership No  Date Joined  Active  \n",
      "47717  2015-8-14  no\n",
      "95567  2017-11-8  no\n",
      "38495  2020-7-2  no\n",
      "96375  2016-7-8  no\n",
      "17803  2017-9-10  no\n",
      "86711  2018-6-25  no\n",
      "51830  2020-7-22  no\n",
      "17997  2015-11-2  no\n",
      "53492  2019-10-17  no\n",
      "90965  2020-2-5  no\n",
      "88061  2017-8-5  no\n",
      "50328  2016-11-25  no\n",
      "\n"
     ]
    }
   ],
   "source": [
    "#mi solucion\n",
    "def cleanFiles(currentMem,exMem):\n",
    "    '''\n",
    "    currentMem: File containing list of current members\n",
    "    exMem: File containing list of old members\n",
    "    \n",
    "    Removes all rows from currentMem containing 'no' and appends them to exMem\n",
    "    '''\n",
    "    with open(currentMem,'r') as readfile:#forma 2 de hacerlo\n",
    "        rr=readfile.read()\n",
    "    rr=(rr).split(\"\\n\")\n",
    "    logs=rr[1:len(rr)-1]\n",
    "    tracking=[]\n",
    "\n",
    "    for i in range(len(logs)):\n",
    "        logs1=logs[i].split(\"  \")\n",
    "        tracking.extend([[logs1[0],logs1[1],logs1[2]]])\n",
    "\n",
    "    # Creates a new file\n",
    "    with open('memberupdated.txt', 'w') as fp:\n",
    "        fp.write(\"Membership No  Date Joined  Active  \\n\")\n",
    "    for i in range(len(tracking)):\n",
    "        if tracking[i][2]==\"no\":\n",
    "            with open(exMem,'a') as appendfile:\n",
    "                appendfile.write(\"  \".join(tracking[i])+\"\\n\")\n",
    "        elif tracking[i][2]==\"yes\":\n",
    "            with open('memberupdated.txt','a') as writedfile:\n",
    "                writedfile.write(\"  \".join(tracking[i])+\"\\n\")\n",
    "\n",
    "    with open('memberupdated.txt','r') as readfile:\n",
    "        with open(currentMem,'w') as writefile:\n",
    "              for line in readfile:\n",
    "                    writefile.write(line)\n",
    "\n",
    "\n",
    "\n",
    "    \n",
    "    \n",
    "\n",
    "\n",
    "# Code to help you see the files\n",
    "# Leave as is\n",
    "memReg = 'members.txt'\n",
    "exReg = 'inactive.txt'\n",
    "cleanFiles(memReg,exReg)\n",
    "\n",
    "\n",
    "headers = \"Membership No  Date Joined  Active  \\n\"\n",
    "with open(memReg,'r') as readFile:\n",
    "    print(\"Active Members: \\n\\n\")\n",
    "    print(readFile.read())\n",
    "    \n",
    "with open(exReg,'r') as readFile:\n",
    "    print(\"Inactive Members: \\n\\n\")\n",
    "    print(readFile.read())\n",
    "                \n",
    "    "
   ]
  },
  {
   "cell_type": "code",
   "execution_count": 182,
   "metadata": {},
   "outputs": [
    {
     "name": "stdout",
     "output_type": "stream",
     "text": [
      "Active Members: \n",
      "\n",
      "\n",
      "Membership No  Date Joined  Active  \n",
      "63752  2017-10-18  yes\n",
      "80821  2017-10-1  yes\n",
      "65029  2015-8-20  yes\n",
      "25673  2015-4-6  yes\n",
      "36542  2020-6-15  yes\n",
      "48784  2017-12-20  yes\n",
      "17622  2015-4-9  yes\n",
      "69040  2016-10-20  yes\n",
      "39670  2019-7-15  yes\n",
      "\n",
      "Inactive Members: \n",
      "\n",
      "\n",
      "Membership No  Date Joined  Active  \n",
      "72182  2017-8-9  no\n",
      "90797  2017-12-21  no\n",
      "30271  2020-2-20  no\n",
      "67590  2015-12-4  no\n",
      "66448  2015-4-24  no\n",
      "23994  2017-4-9  no\n",
      "88951  2015-8-22  no\n",
      "61347  2017-6-23  no\n",
      "64769  2019-3-20  no\n",
      "16864  2016-6-14  no\n",
      "64478  2015-6-6  no\n",
      "81391  2018-5-13  no\n",
      "59054  2019-12-19  no\n",
      "73856  2016-4-24  no\n",
      "\n"
     ]
    }
   ],
   "source": [
    "def cleanFiles(currentMem,exMem):\n",
    "    with open(currentMem,'r+') as writeFile: \n",
    "        with open(exMem,'a+') as appendFile:\n",
    "            #get the data\n",
    "            writeFile.seek(0)\n",
    "            members = writeFile.readlines()\n",
    "            #remove header\n",
    "            header = members[0]\n",
    "            members.pop(0)\n",
    "                \n",
    "            inactive = [member for member in members if ('no' in member)]\n",
    "            '''\n",
    "            The above is the same as \n",
    "\n",
    "            for member in active:\n",
    "            if 'no' in member:\n",
    "                inactive.append(member)\n",
    "            '''\n",
    "            #go to the beginning of the write file\n",
    "            writeFile.seek(0) \n",
    "            writeFile.write(header)\n",
    "            for member in members:\n",
    "                if (member in inactive):\n",
    "                    appendFile.write(member)\n",
    "                else:\n",
    "                    writeFile.write(member)      \n",
    "            writeFile.truncate()\n",
    "                \n",
    "memReg = 'members.txt'\n",
    "exReg = 'inactive.txt'\n",
    "cleanFiles(memReg,exReg)\n",
    "\n",
    "# code to help you see the files\n",
    "\n",
    "headers = \"Membership No  Date Joined  Active  \\n\"\n",
    "\n",
    "with open(memReg,'r') as readFile:\n",
    "    print(\"Active Members: \\n\\n\")\n",
    "    print(readFile.read())\n",
    "    \n",
    "with open(exReg,'r') as readFile:\n",
    "    print(\"Inactive Members: \\n\\n\")\n",
    "    print(readFile.read())"
   ]
  },
  {
   "cell_type": "markdown",
   "metadata": {},
   "source": [
    "Run the following to verify your code:\n"
   ]
  },
  {
   "cell_type": "code",
   "execution_count": 30,
   "metadata": {},
   "outputs": [
    {
     "name": "stdout",
     "output_type": "stream",
     "text": [
      "Test Passed\n"
     ]
    }
   ],
   "source": [
    "def testMsg(passed):\n",
    "    if passed:\n",
    "       return 'Test Passed'\n",
    "    else :\n",
    "       return 'Test Failed'\n",
    "\n",
    "testWrite = \"testWrite.txt\"\n",
    "testAppend = \"testAppend.txt\" \n",
    "passed = True\n",
    "\n",
    "genFiles(testWrite,testAppend)\n",
    "\n",
    "with open(testWrite,'r') as file:\n",
    "    ogWrite = file.readlines()\n",
    "\n",
    "with open(testAppend,'r') as file:\n",
    "    ogAppend = file.readlines()\n",
    "\n",
    "try:\n",
    "    cleanFiles(testWrite,testAppend)\n",
    "except:\n",
    "    print('Error')\n",
    "\n",
    "with open(testWrite,'r') as file:\n",
    "    clWrite = file.readlines()\n",
    "\n",
    "with open(testAppend,'r') as file:\n",
    "    clAppend = file.readlines()\n",
    "        \n",
    "# checking if total no of rows is same, including headers\n",
    "\n",
    "if (len(ogWrite) + len(ogAppend) != len(clWrite) + len(clAppend)):\n",
    "    print(\"The number of rows do not add up. Make sure your final files have the same header and format.\")\n",
    "    passed = False\n",
    "    \n",
    "for line in clWrite:\n",
    "    if  'no' in line:\n",
    "        passed = False\n",
    "        print(\"Inactive members in file\")\n",
    "        break\n",
    "    else:\n",
    "        if line not in ogWrite:\n",
    "            print(\"Data in file does not match original file\")\n",
    "            passed = False\n",
    "print (\"{}\".format(testMsg(passed)))\n",
    "    \n",
    "\n"
   ]
  },
  {
   "cell_type": "markdown",
   "metadata": {},
   "source": [
    "<details><summary>Click here for the solution</summary>\n",
    "\n",
    "```python\n",
    "def cleanFiles(currentMem,exMem):\n",
    "    with open(currentMem,'r+') as writeFile: \n",
    "        with open(exMem,'a+') as appendFile:\n",
    "            #get the data\n",
    "            writeFile.seek(0)\n",
    "            members = writeFile.readlines()\n",
    "            #remove header\n",
    "            header = members[0]\n",
    "            members.pop(0)\n",
    "                \n",
    "            inactive = [member for member in members if ('no' in member)]\n",
    "            '''\n",
    "            The above is the same as \n",
    "\n",
    "            for member in active:\n",
    "            if 'no' in member:\n",
    "                inactive.append(member)\n",
    "            '''\n",
    "            #go to the beginning of the write file\n",
    "            writeFile.seek(0) \n",
    "            writeFile.write(header)\n",
    "            for member in members:\n",
    "                if (member in inactive):\n",
    "                    appendFile.write(member)\n",
    "                else:\n",
    "                    writeFile.write(member)      \n",
    "            writeFile.truncate()\n",
    "                \n",
    "memReg = 'members.txt'\n",
    "exReg = 'inactive.txt'\n",
    "cleanFiles(memReg,exReg)\n",
    "\n",
    "# code to help you see the files\n",
    "\n",
    "headers = \"Membership No  Date Joined  Active  \\n\"\n",
    "\n",
    "with open(memReg,'r') as readFile:\n",
    "    print(\"Active Members: \\n\\n\")\n",
    "    print(readFile.read())\n",
    "    \n",
    "with open(exReg,'r') as readFile:\n",
    "    print(\"Inactive Members: \\n\\n\")\n",
    "    print(readFile.read())\n",
    "    \n",
    "```\n",
    "\n",
    "</details>\n"
   ]
  },
  {
   "cell_type": "markdown",
   "metadata": {},
   "source": [
    "<hr>\n",
    "<h2>The last exercise!</h2>\n",
    "<p>Congratulations, you have completed your first lesson and hands-on lab in Python. However, there is one more thing you need to do. The Data Science community encourages sharing work. The best way to share and showcase your work is to share it on GitHub. By sharing your notebook on GitHub you are not only building your reputation with fellow data scientists, but you can also show it off when applying for a job. Even though this was your first piece of work, it is never too early to start building good habits. So, please read and follow <a href=\"https://cognitiveclass.ai/blog/data-scientists-stand-out-by-sharing-your-notebooks/?utm_medium=Exinfluencer&utm_source=Exinfluencer&utm_content=000026UJ&utm_term=10006555&utm_id=NA-SkillsNetwork-Channel-SkillsNetworkCoursesIBMDeveloperSkillsNetworkPY0101ENSkillsNetwork19487395-2021-01-01\" target=\"_blank\">this article</a> to learn how to share your work.\n",
    "<hr>\n"
   ]
  },
  {
   "cell_type": "markdown",
   "metadata": {},
   "source": [
    "## Author\n",
    "\n",
    "<a href=\"https://www.linkedin.com/in/joseph-s-50398b136/?utm_medium=Exinfluencer&utm_source=Exinfluencer&utm_content=000026UJ&utm_term=10006555&utm_id=NA-SkillsNetwork-Channel-SkillsNetworkCoursesIBMDeveloperSkillsNetworkPY0101ENSkillsNetwork19487395-2021-01-01\" target=\"_blank\">Joseph Santarcangelo</a>\n",
    "\n",
    "### Other Contributors\n",
    "\n",
    "<a href=\"www.linkedin.com/in/jiahui-mavis-zhou-a4537814a\">Mavis Zhou</a>\n",
    "\n",
    "## Change Log\n",
    "\n",
    "|  Date (YYYY-MM-DD) |  Version | Changed By  |  Change Description |\n",
    "|---|---|---|---|\n",
    "| 2020-10-16  | 1.3  | Arjun Swani  |  Added exercise |\n",
    "| 2020-10-16  | 1.2  | Arjun Swani  |  Added section additional file modes |\n",
    "| 2020-10-16  | 1.1  | Arjun Swani |  Made append a different section |\n",
    "| 2020-08-28  | 0.2  | Lavanya  |  Moved lab to course repo in GitLab |\n",
    "\n",
    "<hr>\n",
    "\n",
    "## <h3 align=\"center\"> © IBM Corporation 2020. All rights reserved. <h3/>\n"
   ]
  },
  {
   "cell_type": "code",
   "execution_count": null,
   "metadata": {},
   "outputs": [],
   "source": [
    "\n",
    "def cleanFiles(currentMem,exMem):\n",
    "    '''\n",
    "    currentMem: File containing list of current members\n",
    "    exMem: File containing list of old members\n",
    "    \n",
    "    Removes all rows from currentMem containing 'no' and appends them to exMem\n",
    "    '''\n",
    "    with open(currentMem,'r') as readfile:\n",
    "        rr=readfile.read()\n",
    "    rr=(rr).split(\"\\n\")\n",
    "    logs=rr[1:len(rr)-1]\n",
    "\n",
    "    ids=[]\n",
    "    date=[]\n",
    "    is_active=[]\n",
    "    for i in range(len(logs)):\n",
    "        logs1=logs[i].split(\"  \")\n",
    "        ids.append(logs1[0])\n",
    "        date.append(logs1[1])\n",
    "        is_active.append(logs1[2])\n",
    "\n",
    "    # Creates a new file\n",
    "    with open('memberupdated.txt', 'w') as fp:\n",
    "        fp.write(\"Membership No  Date Joined  Active  \\n\")\n",
    "    for i in range(len(is_active)):\n",
    "        if is_active[i]==\"no\":\n",
    "            with open(exMem,'a') as appendfile:\n",
    "                appendfile.write(ids[i]+\" \"+date[i]+\" \"+is_active[i]+\"\\n\")\n",
    "        elif is_active[i]==\"yes\":\n",
    "            with open('memberupdated.txt','a') as writedfile:\n",
    "                writedfile.write(ids[i]+\" \"+date[i]+\" \"+is_active[i]+\"\\n\")\n",
    "\n",
    "    with open('memberupdated.txt','r') as readfile:\n",
    "        with open(currentMem,'w') as writefile:\n",
    "              for line in readfile:\n",
    "                    writefile.write(line)\n",
    "\n",
    "    \n",
    "    \n",
    "\n",
    "\n",
    "# Code to help you see the files\n",
    "# Leave as is\n",
    "memReg = 'members.txt'\n",
    "exReg = 'inactive.txt'\n",
    "cleanFiles(memReg,exReg)\n",
    "\n",
    "\n",
    "headers = \"Membership No  Date Joined  Active  \\n\"\n",
    "with open(memReg,'r') as readFile:\n",
    "    print(\"Active Members: \\n\\n\")\n",
    "    print(readFile.read())\n",
    "    \n",
    "with open(exReg,'r') as readFile:\n",
    "    print(\"Inactive Members: \\n\\n\")\n",
    "    print(readFile.read())\n",
    "                \n",
    "    "
   ]
  },
  {
   "cell_type": "code",
   "execution_count": null,
   "metadata": {},
   "outputs": [],
   "source": [
    "\n",
    "def cleanFiles(currentMem,exMem):\n",
    "    '''\n",
    "    currentMem: File containing list of current members\n",
    "    exMem: File containing list of old members\n",
    "    \n",
    "    Removes all rows from currentMem containing 'no' and appends them to exMem\n",
    "    '''\n",
    "    with open(currentMem,'r+') as readfile:\n",
    "        rr=readfile.read()\n",
    "        readfile.seek(0) \n",
    "        readfile.write(\"Membership No  Date Joined  Active  \\n\")\n",
    "        rr=(rr).split(\"\\n\")\n",
    "        logs=rr[1:len(rr)-1]\n",
    "\n",
    "        ids=[]\n",
    "        date=[]\n",
    "        is_active=[]\n",
    "        for i in range(len(logs)):\n",
    "            logs1=logs[i].split(\"  \")\n",
    "            ids.append(logs1[0])\n",
    "            date.append(logs1[1])\n",
    "            is_active.append(logs1[2])\n",
    "\n",
    "\n",
    "\n",
    "        for i in range(len(is_active)):\n",
    "            if is_active[i]==\"no\":\n",
    "                with open(exMem,'a') as appendfile:\n",
    "                    appendfile.write(ids[i]+\" \"+date[i]+\" \"+is_active[i]+\"\\n\")\n",
    "            elif is_active[i]==\"yes\":\n",
    "                readfile.write(ids[i]+\" \"+date[i]+\" \"+is_active[i]+\"\\n\")\n",
    "\n",
    "\n",
    "    \n",
    "    \n",
    "\n",
    "\n",
    "# Code to help you see the files\n",
    "# Leave as is\n",
    "memReg = 'members.txt'\n",
    "exReg = 'inactive.txt'\n",
    "cleanFiles(memReg,exReg)\n",
    "\n",
    "\n",
    "headers = \"Membership No  Date Joined  Active  \\n\"\n",
    "with open(memReg,'r') as readFile:\n",
    "    print(\"Active Members: \\n\\n\")\n",
    "    print(readFile.read())\n",
    "    \n",
    "with open(exReg,'r') as readFile:\n",
    "    print(\"Inactive Members: \\n\\n\")\n",
    "    print(readFile.read())\n",
    "                \n",
    "    "
   ]
  }
 ],
 "metadata": {
  "kernelspec": {
   "display_name": "Python 3",
   "language": "python",
   "name": "python3"
  },
  "language_info": {
   "codemirror_mode": {
    "name": "ipython",
    "version": 3
   },
   "file_extension": ".py",
   "mimetype": "text/x-python",
   "name": "python",
   "nbconvert_exporter": "python",
   "pygments_lexer": "ipython3",
   "version": "3.8.8"
  }
 },
 "nbformat": 4,
 "nbformat_minor": 4
}
